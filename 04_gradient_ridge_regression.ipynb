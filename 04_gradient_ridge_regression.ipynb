{
 "cells": [
  {
   "cell_type": "markdown",
   "id": "a50cb516-e25e-4ffb-90b8-45715229f186",
   "metadata": {},
   "source": [
    "## Ridge Regression Gradient Descent from Scratch\n",
    "\n",
    "### Model Equation:\n",
    "### $$  y = b_0 + \\sum_{i=1}^{n} b_i X_i $$\n",
    "\n",
    "### Loss Function:\n",
    "### $$ L = (Y - Y{\\text{pred}})^T(Y - Y{\\text{pred}}) + \\lambda W^TW   $$\n",
    "\n",
    "### Gradient Descent Updation Rule:\n",
    "### $$ \\beta_{\\text{new}} = \\beta_{\\text{old}} - \\eta \\cdot (slope) $$\n",
    "\n",
    "### Slope Equation:\n",
    "### $$ \\text{slope} = X^TXW - X^TY + \\lambda W $$"
   ]
  },
  {
   "cell_type": "code",
   "execution_count": 2,
   "id": "27370dc5-f939-4836-8b57-d881500543d6",
   "metadata": {},
   "outputs": [],
   "source": [
    "import pandas as pd\n",
    "import numpy as np"
   ]
  },
  {
   "cell_type": "code",
   "execution_count": 3,
   "id": "c2b53193-3ec9-4662-a5db-6fc4e5927211",
   "metadata": {},
   "outputs": [],
   "source": [
    "from sklearn.datasets import load_diabetes\n",
    "from sklearn.metrics import r2_score\n",
    "\n",
    "from sklearn.model_selection import train_test_split\n",
    "\n",
    "from sklearn.linear_model import  SGDRegressor , Ridge"
   ]
  },
  {
   "cell_type": "code",
   "execution_count": 43,
   "id": "27daac55-1d49-4b41-8769-6d39b527313c",
   "metadata": {},
   "outputs": [],
   "source": [
    "class gradient_ridge:\n",
    "\n",
    "    def __init__(self , alpha ,  learning_rate , epochs):\n",
    "\n",
    "        self.alpha = alpha\n",
    "        self.lr = learning_rate\n",
    "        self.epochs = epochs\n",
    "        self.coef_ = None\n",
    "        self.intercept_ = None\n",
    "\n",
    "    def fit(self , X_train , Y_train):\n",
    "        X = X_train.values if isinstance(X_train , pd.DataFrame) else X_train\n",
    "        Y = Y_train.values if isinstance(Y_train , pd.DataFrame) else Y_train\n",
    "\n",
    "        X = np.insert(X , 0 , 1, axis = 1)\n",
    "\n",
    "        self.coef_ = np.ones((X.shape[1],1))\n",
    "        self.coef_[0] = 0\n",
    "\n",
    "        # print(self.coef_.shape)\n",
    "\n",
    "        for _ in range(self.epochs):\n",
    "\n",
    "\n",
    "            slope = np.dot(X.T, np.dot(X, self.coef_)) - np.dot(X.T, Y.reshape(-1, 1)) + (self.alpha * self.coef_)\n",
    "            self.coef_ = self.coef_ - (self.lr * slope)\n",
    "        \n",
    "        self.intercept_ = self.coef_[0]\n",
    "        self.coef_ = self.coef_[1:]\n",
    "\n",
    "    def predict(self , X_test):\n",
    "        X = X_test.values if isinstance(X_test , pd.DataFrame) else X_test\n",
    "\n",
    "        return np.dot(X , self.coef_) + self.intercept_\n",
    "        "
   ]
  },
  {
   "cell_type": "code",
   "execution_count": 44,
   "id": "0490e3bd-68f7-400c-9594-8e13e554f727",
   "metadata": {},
   "outputs": [
    {
     "data": {
      "text/plain": [
       "((442, 10), (442,))"
      ]
     },
     "execution_count": 44,
     "metadata": {},
     "output_type": "execute_result"
    }
   ],
   "source": [
    "X , Y = load_diabetes(return_X_y = True)\n",
    "\n",
    "X.shape , Y.shape"
   ]
  },
  {
   "cell_type": "code",
   "execution_count": 45,
   "id": "c6004a46-ba76-42f3-98bd-83da7b597ba7",
   "metadata": {},
   "outputs": [
    {
     "data": {
      "text/plain": [
       "((353, 10), (89, 10), (353,), (89,))"
      ]
     },
     "execution_count": 45,
     "metadata": {},
     "output_type": "execute_result"
    }
   ],
   "source": [
    "X_train , X_test , Y_train , Y_test = train_test_split(X , Y , test_size = 0.2 , random_state = 4)\n",
    "\n",
    "X_train.shape , X_test.shape , Y_train.shape , Y_test.shape"
   ]
  },
  {
   "cell_type": "code",
   "execution_count": 46,
   "id": "113043b1-ec68-4383-9cf9-e2ce2dcea2d0",
   "metadata": {},
   "outputs": [
    {
     "data": {
      "text/plain": [
       "(array([150.86975317]),\n",
       " array([[  46.65050914],\n",
       "        [-221.3750037 ],\n",
       "        [ 452.12080647],\n",
       "        [ 325.54248128],\n",
       "        [ -29.09464178],\n",
       "        [ -96.47517735],\n",
       "        [-190.90017011],\n",
       "        [ 146.32900372],\n",
       "        [ 400.80267299],\n",
       "        [  95.09048094]]))"
      ]
     },
     "execution_count": 46,
     "metadata": {},
     "output_type": "execute_result"
    }
   ],
   "source": [
    "obj = gradient_ridge(alpha = 0.001  , learning_rate = 0.005 , epochs = 500)\n",
    "\n",
    "obj.fit(X_train , Y_train)\n",
    "\n",
    "obj.intercept_ , obj.coef_"
   ]
  },
  {
   "cell_type": "code",
   "execution_count": 47,
   "id": "d86bfdbb-c627-4e0c-bed5-b4aa3ded4918",
   "metadata": {},
   "outputs": [
    {
     "name": "stdout",
     "output_type": "stream",
     "text": [
      " R2 Socre : 0.4738018280260915\n",
      " Adjusted R2 Score : 0.3995943935169505\n"
     ]
    }
   ],
   "source": [
    "y_pred = obj.predict(X_test)\n",
    "\n",
    "r2 = r2_score(Y_test , y_pred)\n",
    "adj_r2 = 1 - ( ( ( 1- r2) * (X_test.shape[0]) ) / ( X_test.shape[0] - 1 - X_test.shape[1] ) )\n",
    "\n",
    "print(f' R2 Socre : {r2}')\n",
    "print(f' Adjusted R2 Score : {adj_r2}')"
   ]
  },
  {
   "cell_type": "markdown",
   "id": "405459d5-0442-4490-9272-6ffa0a3ed03b",
   "metadata": {},
   "source": [
    "## Using SKLearn SGDRegressor"
   ]
  },
  {
   "cell_type": "code",
   "execution_count": 48,
   "id": "94747f99-6e9c-408b-9ac2-d839b1fde8df",
   "metadata": {},
   "outputs": [
    {
     "data": {
      "text/plain": [
       "(array([166.83510106]),\n",
       " array([  48.29388371, -141.55193044,  355.78064078,  265.05237615,\n",
       "          -0.64997879,  -53.47451528, -163.50849345,  137.10760699,\n",
       "         319.82592264,  104.34235018]))"
      ]
     },
     "execution_count": 48,
     "metadata": {},
     "output_type": "execute_result"
    }
   ],
   "source": [
    "sgd_reg = SGDRegressor(penalty='l2' , max_iter=500 , eta0 = 0.1 , learning_rate = 'constant' , alpha = 0.001)\n",
    "\n",
    "sgd_reg.fit(X_train , Y_train)\n",
    "\n",
    "sgd_reg.intercept_ , sgd_reg.coef_"
   ]
  },
  {
   "cell_type": "code",
   "execution_count": 49,
   "id": "959fbdd0-cd04-4452-b42f-4feabc5cbc9a",
   "metadata": {},
   "outputs": [
    {
     "name": "stdout",
     "output_type": "stream",
     "text": [
      " R2 Socre : 0.4364877293322569\n",
      " Adjusted R2 Score : 0.3570180501355239\n"
     ]
    }
   ],
   "source": [
    "y_pred_sk = sgd_reg.predict(X_test)\n",
    "\n",
    "r2 = r2_score(Y_test , y_pred_sk)\n",
    "adj_r2 = 1 - ( ( ( 1- r2) * (X_test.shape[0]) ) / ( X_test.shape[0] - 1 - X_test.shape[1] ) )\n",
    "\n",
    "print(f' R2 Socre : {r2}')\n",
    "print(f' Adjusted R2 Score : {adj_r2}')"
   ]
  },
  {
   "cell_type": "markdown",
   "id": "692f4c66-1685-4279-bc14-73af828100a3",
   "metadata": {},
   "source": [
    "## Using SKLearn Ridge "
   ]
  },
  {
   "cell_type": "code",
   "execution_count": 50,
   "id": "78352c2d-328f-4762-99e4-806a4a8a88e9",
   "metadata": {},
   "outputs": [
    {
     "data": {
      "text/plain": [
       "(151.1019852106396,\n",
       " array([  34.52193585, -290.84083165,  482.40182815,  368.06788002,\n",
       "        -852.44871579,  501.59161927,  180.11114394,  270.76336042,\n",
       "         759.73536282,   37.49136954]))"
      ]
     },
     "execution_count": 50,
     "metadata": {},
     "output_type": "execute_result"
    }
   ],
   "source": [
    "reg = Ridge(alpha = 0.001 , max_iter = 500 , solver = 'sparse_cg')\n",
    "\n",
    "reg.fit(X_train , Y_train)\n",
    "\n",
    "reg.intercept_ , reg.coef_"
   ]
  },
  {
   "cell_type": "code",
   "execution_count": 51,
   "id": "ae6c8be1-856c-4e99-8e81-77b58e815f82",
   "metadata": {},
   "outputs": [
    {
     "name": "stdout",
     "output_type": "stream",
     "text": [
      " R2 Socre : 0.46250101621477147\n",
      " Adjusted R2 Score : 0.386699877475829\n"
     ]
    }
   ],
   "source": [
    "y_pred_sk = reg.predict(X_test)\n",
    "\n",
    "r2 = r2_score(Y_test , y_pred_sk)\n",
    "adj_r2 = 1 - ( ( ( 1- r2) * (X_test.shape[0]) ) / ( X_test.shape[0] - 1 - X_test.shape[1] ) )\n",
    "\n",
    "print(f' R2 Socre : {r2}')\n",
    "print(f' Adjusted R2 Score : {adj_r2}')"
   ]
  },
  {
   "cell_type": "code",
   "execution_count": null,
   "id": "849f5b34-76df-471e-9b05-41abb79ee9db",
   "metadata": {},
   "outputs": [],
   "source": []
  }
 ],
 "metadata": {
  "kernelspec": {
   "display_name": "Python 3 (ipykernel)",
   "language": "python",
   "name": "python3"
  },
  "language_info": {
   "codemirror_mode": {
    "name": "ipython",
    "version": 3
   },
   "file_extension": ".py",
   "mimetype": "text/x-python",
   "name": "python",
   "nbconvert_exporter": "python",
   "pygments_lexer": "ipython3",
   "version": "3.12.7"
  }
 },
 "nbformat": 4,
 "nbformat_minor": 5
}

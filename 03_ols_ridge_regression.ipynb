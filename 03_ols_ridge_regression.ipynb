{
 "cells": [
  {
   "cell_type": "markdown",
   "id": "2f3e2413-2e15-4183-a260-e4461d878abe",
   "metadata": {},
   "source": [
    "## Ridge Regression from scratch - OLS\n",
    "\n",
    "## $y = b_0 + \\sum_{i=1}^{n} b_i X_i$\n",
    "\n",
    "## $\\beta = (X^T X + \\lambda I )^{-1} X^T Y$"
   ]
  },
  {
   "cell_type": "code",
   "execution_count": 1,
   "id": "33aecb23-545b-48a6-b8b1-38a3f5b2d7e9",
   "metadata": {},
   "outputs": [],
   "source": [
    "import pandas as pd\n",
    "import numpy as np"
   ]
  },
  {
   "cell_type": "code",
   "execution_count": 6,
   "id": "f0f65fdd-95d7-4762-b0de-a8161260b0f5",
   "metadata": {},
   "outputs": [],
   "source": [
    "from sklearn.datasets import load_diabetes\n",
    "from sklearn.metrics import r2_score\n",
    "\n",
    "from sklearn.model_selection import train_test_split\n",
    "\n",
    "from sklearn.linear_model import  Ridge"
   ]
  },
  {
   "cell_type": "code",
   "execution_count": 107,
   "id": "82c3981c-b8ac-4dea-b4fb-958d8d14443d",
   "metadata": {},
   "outputs": [],
   "source": [
    "class Ridge_Regression:\n",
    "\n",
    "    def __init__(self , alpha):\n",
    "        self.alpha = alpha\n",
    "        self.coef_ = None\n",
    "        self.intercept_ = None\n",
    "\n",
    "    def fit(self , X_train , Y_train):\n",
    "        X = X_train.values if isinstance(X_train , pd.DataFrame) else X_train\n",
    "        Y = Y_train.values if isinstance(Y_train , pd.DataFrame) else Y_train\n",
    "\n",
    "        X = np.insert(X , 0 , 1, axis = 1)\n",
    "\n",
    "        I = np.identity(X.shape[1])\n",
    "        I[0][0] = 0\n",
    "\n",
    "        self.coef_ = (np.linalg.inv( (X.T @ X) + self.alpha * I) @ X.T) @ Y\n",
    "        self.intercept_ = self.coef_[0]\n",
    "        self.coef_ = self.coef_[1:]\n",
    "\n",
    "    def predict(self , X_test):\n",
    "        X = X_test.values if isinstance(X_test , pd.DataFrame) else X_test\n",
    "        \n",
    "        return ((X @ self.coef_) + self.intercept_)"
   ]
  },
  {
   "cell_type": "code",
   "execution_count": 108,
   "id": "6361b83d-41ac-4a47-ba77-4204b98fbccf",
   "metadata": {},
   "outputs": [
    {
     "data": {
      "text/plain": [
       "((442, 10), (442,))"
      ]
     },
     "execution_count": 108,
     "metadata": {},
     "output_type": "execute_result"
    }
   ],
   "source": [
    "X , Y = load_diabetes(return_X_y = True)\n",
    "\n",
    "X.shape , Y.shape"
   ]
  },
  {
   "cell_type": "code",
   "execution_count": 109,
   "id": "0a168468-3bbb-4d2f-8be8-636acab6e924",
   "metadata": {},
   "outputs": [
    {
     "data": {
      "text/plain": [
       "((353, 10), (89, 10), (353,), (89,))"
      ]
     },
     "execution_count": 109,
     "metadata": {},
     "output_type": "execute_result"
    }
   ],
   "source": [
    "X_train , X_test , Y_train , Y_test = train_test_split(X , Y , test_size = 0.2 , random_state = 4)\n",
    "\n",
    "X_train.shape , X_test.shape , Y_train.shape , Y_test.shape"
   ]
  },
  {
   "cell_type": "code",
   "execution_count": 110,
   "id": "604ee08a-5e8c-4119-ab46-44891604eaee",
   "metadata": {},
   "outputs": [
    {
     "data": {
      "text/plain": [
       "(150.89053425602805,\n",
       " array([  44.02063391, -241.69329987,  452.98665299,  332.04420177,\n",
       "         -76.33686744,  -68.52143809, -164.98809083,  149.96908118,\n",
       "         431.61347417,   58.51862681]))"
      ]
     },
     "execution_count": 110,
     "metadata": {},
     "output_type": "execute_result"
    }
   ],
   "source": [
    "obj = Ridge_Regression(alpha = 0.1)\n",
    "\n",
    "obj.fit(X_train , Y_train)\n",
    "\n",
    "obj.intercept_ , obj.coef_"
   ]
  },
  {
   "cell_type": "code",
   "execution_count": 111,
   "id": "6620e416-6d7f-457f-a1cd-886041a65818",
   "metadata": {},
   "outputs": [
    {
     "name": "stdout",
     "output_type": "stream",
     "text": [
      " R2 Socre : 0.4693128853309805\n",
      " Adjusted R2 Score : 0.39447239480073415\n"
     ]
    }
   ],
   "source": [
    "y_pred = obj.predict(X_test)\n",
    "\n",
    "r2 = r2_score(Y_test , y_pred)\n",
    "adj_r2 = 1 - ( ( ( 1- r2) * (X_test.shape[0]) ) / ( X_test.shape[0] - 1 - X_test.shape[1] ) )\n",
    "\n",
    "print(f' R2 Socre : {r2}')\n",
    "print(f' Adjusted R2 Score : {adj_r2}')"
   ]
  },
  {
   "cell_type": "markdown",
   "id": "22ce3884-8af1-40ad-9fc1-9a4676c67edb",
   "metadata": {},
   "source": [
    "## SKLearn Ridge Regression"
   ]
  },
  {
   "cell_type": "code",
   "execution_count": 112,
   "id": "b979aad9-6c5a-465d-ab36-57f50882ad5d",
   "metadata": {},
   "outputs": [
    {
     "data": {
      "text/plain": [
       "(150.89053425602808,\n",
       " array([  44.02063391, -241.69329987,  452.98665299,  332.04420177,\n",
       "         -76.33686744,  -68.52143809, -164.98809083,  149.96908118,\n",
       "         431.61347417,   58.51862681]))"
      ]
     },
     "execution_count": 112,
     "metadata": {},
     "output_type": "execute_result"
    }
   ],
   "source": [
    "skrr = Ridge(alpha = 0.1 , solver = 'cholesky')\n",
    "\n",
    "skrr.fit(X_train , Y_train)\n",
    "\n",
    "skrr.intercept_ , skrr.coef_"
   ]
  },
  {
   "cell_type": "code",
   "execution_count": 113,
   "id": "5441cf75-1e75-442e-bb01-2b0db3c7b526",
   "metadata": {},
   "outputs": [
    {
     "name": "stdout",
     "output_type": "stream",
     "text": [
      " R2 Socre : 0.46931288533098026\n",
      " Adjusted R2 Score : 0.3944723948007338\n"
     ]
    }
   ],
   "source": [
    "y_pred_sk = skrr.predict(X_test)\n",
    "\n",
    "r2 = r2_score(Y_test , y_pred_sk)\n",
    "adj_r2 = 1 - ( ( ( 1- r2) * (X_test.shape[0]) ) / ( X_test.shape[0] - 1 - X_test.shape[1] ) )\n",
    "\n",
    "print(f' R2 Socre : {r2}')\n",
    "print(f' Adjusted R2 Score : {adj_r2}')"
   ]
  },
  {
   "cell_type": "code",
   "execution_count": null,
   "id": "c1ee003f-51a6-43c8-a0e0-787b4d9a60f2",
   "metadata": {},
   "outputs": [],
   "source": []
  }
 ],
 "metadata": {
  "kernelspec": {
   "display_name": "Python 3 (ipykernel)",
   "language": "python",
   "name": "python3"
  },
  "language_info": {
   "codemirror_mode": {
    "name": "ipython",
    "version": 3
   },
   "file_extension": ".py",
   "mimetype": "text/x-python",
   "name": "python",
   "nbconvert_exporter": "python",
   "pygments_lexer": "ipython3",
   "version": "3.12.7"
  }
 },
 "nbformat": 4,
 "nbformat_minor": 5
}

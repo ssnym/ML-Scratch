{
 "cells": [
  {
   "cell_type": "markdown",
   "id": "36109786-0403-4816-a629-a78f0fbebc82",
   "metadata": {},
   "source": [
    "## Multiple Linear Regression from scratch\n",
    "\n",
    "## $y = b_0 + \\sum_{i=1}^{n} b_i X_i$\n",
    "\n",
    "## $\\beta = (X^T X)^{-1} X^T Y$"
   ]
  },
  {
   "cell_type": "code",
   "execution_count": 4,
   "id": "efce24a4-e962-41e0-b9d2-6ec50e39c43f",
   "metadata": {},
   "outputs": [],
   "source": [
    "import numpy as np\n",
    "import pandas as pd\n",
    "from sklearn.datasets import load_diabetes\n",
    "\n",
    "from sklearn.model_selection import train_test_split\n",
    "\n",
    "from sklearn.metrics  import mean_absolute_error , mean_squared_error , r2_score\n",
    "\n",
    "from sklearn.linear_model import LinearRegression"
   ]
  },
  {
   "cell_type": "code",
   "execution_count": 5,
   "id": "b5f6a08d-b907-48a2-abcb-f53a0c07b5b8",
   "metadata": {},
   "outputs": [],
   "source": [
    "class multiple_linear_regression:\n",
    "\n",
    "    def __init__(self):\n",
    "        self.intercetp_ = None\n",
    "        self.coef_ = None\n",
    "\n",
    "    def fit(self ,X_train , Y_train) :\n",
    "\n",
    "        X = X_train.values if isinstance(X_train , pd.DataFrame) else X_train\n",
    "        Y = Y_train.values if isinstance(Y_train , pd.DataFrame) else Y_train\n",
    "\n",
    "        X = np.insert(X , 0  , 1 , axis = 1)\n",
    "        \n",
    "        betas = ( np.linalg.inv(X.T @ X) @ (X.T)) @ Y\n",
    "        self.intercept_ = betas[0]\n",
    "        self.coef_ = betas[1:]\n",
    "\n",
    "    def predict(self , X_test):\n",
    "\n",
    "        X = X_test.values if isinstance(X_test , pd.DataFrame) else X_test\n",
    "        return ((X @ self.coef_) + self.intercept_)\n"
   ]
  },
  {
   "cell_type": "code",
   "execution_count": 6,
   "id": "40e06848-58f3-425c-bdb2-cd09b6de1ec3",
   "metadata": {},
   "outputs": [
    {
     "data": {
      "text/plain": [
       "((442, 10), (442,), numpy.ndarray, numpy.ndarray)"
      ]
     },
     "execution_count": 6,
     "metadata": {},
     "output_type": "execute_result"
    }
   ],
   "source": [
    "X,Y = load_diabetes(return_X_y=True)\n",
    "\n",
    "X.shape , Y.shape , type(X) , type(Y)"
   ]
  },
  {
   "cell_type": "code",
   "execution_count": 7,
   "id": "79453465-cb2e-43bf-82c2-1c8770b69c94",
   "metadata": {},
   "outputs": [
    {
     "data": {
      "text/plain": [
       "array([[ 0.03807591,  0.05068012,  0.06169621,  0.02187239, -0.0442235 ,\n",
       "        -0.03482076, -0.04340085, -0.00259226,  0.01990749, -0.01764613],\n",
       "       [-0.00188202, -0.04464164, -0.05147406, -0.02632753, -0.00844872,\n",
       "        -0.01916334,  0.07441156, -0.03949338, -0.06833155, -0.09220405]])"
      ]
     },
     "execution_count": 7,
     "metadata": {},
     "output_type": "execute_result"
    }
   ],
   "source": [
    "X[:2]"
   ]
  },
  {
   "cell_type": "code",
   "execution_count": 8,
   "id": "73f934d7-27c2-4e1f-a379-ee69a56f47c6",
   "metadata": {},
   "outputs": [
    {
     "data": {
      "text/plain": [
       "array([151.,  75.])"
      ]
     },
     "execution_count": 8,
     "metadata": {},
     "output_type": "execute_result"
    }
   ],
   "source": [
    "Y[:2]"
   ]
  },
  {
   "cell_type": "code",
   "execution_count": 9,
   "id": "e51f7882-09d0-4ec6-b67d-04e62373c318",
   "metadata": {},
   "outputs": [
    {
     "name": "stdout",
     "output_type": "stream",
     "text": [
      "(353, 10) (89, 10) (353,) (89,)\n"
     ]
    },
    {
     "data": {
      "text/plain": [
       "(numpy.ndarray, numpy.ndarray, numpy.ndarray, numpy.ndarray)"
      ]
     },
     "execution_count": 9,
     "metadata": {},
     "output_type": "execute_result"
    }
   ],
   "source": [
    "X_train , X_test , Y_train , Y_test = train_test_split( X , Y , test_size = 0.2 , random_state = 42)\n",
    "\n",
    "print( X_train.shape , X_test.shape , Y_train.shape , Y_test.shape )\n",
    "\n",
    "type(X_train) , type(X_test) , type(Y_train) , type(Y_test) "
   ]
  },
  {
   "cell_type": "code",
   "execution_count": 10,
   "id": "9d9802ee-dcd7-4f71-9e21-41a170859726",
   "metadata": {},
   "outputs": [],
   "source": [
    "lr = multiple_linear_regression()\n",
    "\n",
    "lr.fit(X_train , Y_train)\n",
    "\n",
    "y_pred = lr.predict(X_test)"
   ]
  },
  {
   "cell_type": "code",
   "execution_count": 11,
   "id": "4b13c446-23ef-4752-bdbf-350dd2ae6331",
   "metadata": {},
   "outputs": [],
   "source": [
    "mae = mean_absolute_error(Y_test , y_pred)\n",
    "mse = mean_squared_error(Y_test , y_pred)\n",
    "rmse = np.sqrt( mean_squared_error(Y_test , y_pred) )\n",
    "r2 = r2_score(Y_test , y_pred)\n",
    "adj_r2 = 1 - ( ( ( 1- r2) * (X_test.shape[0]) ) / ( X_test.shape[0] - 1 - X_test.shape[1] ) )"
   ]
  },
  {
   "cell_type": "code",
   "execution_count": 12,
   "id": "bcc7a069-6d05-4817-8cf9-e3d366b30c96",
   "metadata": {},
   "outputs": [
    {
     "name": "stdout",
     "output_type": "stream",
     "text": [
      " Mean Absolute Error : 42.79409467959993\n",
      " Mean Squared Error : 2900.193628493484\n",
      " Root Mean Squared Error : 53.85344583676595\n",
      " R2 Socre : 0.4526027629719189\n",
      " Adjusted R2 Score : 0.37540571672436907\n"
     ]
    }
   ],
   "source": [
    "print(f' Mean Absolute Error : {mae}')\n",
    "print(f' Mean Squared Error : {mse}')\n",
    "print(f' Root Mean Squared Error : {rmse}')\n",
    "print(f' R2 Socre : {r2}')\n",
    "print(f' Adjusted R2 Score : {adj_r2}')"
   ]
  },
  {
   "cell_type": "code",
   "execution_count": 13,
   "id": "e542f861-22db-4b64-bda0-3043e6cae524",
   "metadata": {},
   "outputs": [
    {
     "data": {
      "text/plain": [
       "151.34560453986"
      ]
     },
     "execution_count": 13,
     "metadata": {},
     "output_type": "execute_result"
    }
   ],
   "source": [
    "lr.intercept_"
   ]
  },
  {
   "cell_type": "code",
   "execution_count": 14,
   "id": "4859b018-4058-4b04-82e3-df0859f07f0f",
   "metadata": {},
   "outputs": [
    {
     "data": {
      "text/plain": [
       "array([  37.90402135, -241.96436231,  542.42875852,  347.70384391,\n",
       "       -931.48884588,  518.06227698,  163.41998299,  275.31790158,\n",
       "        736.1988589 ,   48.67065743])"
      ]
     },
     "execution_count": 14,
     "metadata": {},
     "output_type": "execute_result"
    }
   ],
   "source": [
    "lr.coef_"
   ]
  },
  {
   "cell_type": "markdown",
   "id": "ae3f5dec-493f-439b-a931-d5d2ad53d0ee",
   "metadata": {},
   "source": [
    "# SKlearn Linear Regression"
   ]
  },
  {
   "cell_type": "code",
   "execution_count": 15,
   "id": "c14a551c-7629-479b-8324-8d8a33497d87",
   "metadata": {},
   "outputs": [],
   "source": [
    "sklr = LinearRegression()\n",
    "\n",
    "sklr.fit(X_train , Y_train)\n",
    "\n",
    "y_pred_sk = sklr.predict(X_test)"
   ]
  },
  {
   "cell_type": "code",
   "execution_count": 16,
   "id": "72b1fee2-16bd-453e-93dd-25b63809aae3",
   "metadata": {},
   "outputs": [],
   "source": [
    "mae = mean_absolute_error(Y_test , y_pred_sk)\n",
    "mse = mean_squared_error(Y_test , y_pred_sk)\n",
    "rmse = np.sqrt( mean_squared_error(Y_test , y_pred_sk) )\n",
    "r2 = r2_score(Y_test , y_pred_sk)\n",
    "adj_r2 = 1 - ( ( ( 1- r2) * (X_test.shape[0]) ) / ( X_test.shape[0] - 1 - X_test.shape[1] ) )"
   ]
  },
  {
   "cell_type": "code",
   "execution_count": 17,
   "id": "716d72dd-1b48-415f-ad15-9eeb089fa70c",
   "metadata": {},
   "outputs": [
    {
     "name": "stdout",
     "output_type": "stream",
     "text": [
      " Mean Absolute Error : 42.79409467959994\n",
      " Mean Squared Error : 2900.1936284934804\n",
      " Root Mean Squared Error : 53.85344583676592\n",
      " R2 Socre : 0.4526027629719196\n",
      " Adjusted R2 Score : 0.37540571672436973\n"
     ]
    }
   ],
   "source": [
    "print(f' Mean Absolute Error : {mae}')\n",
    "print(f' Mean Squared Error : {mse}')\n",
    "print(f' Root Mean Squared Error : {rmse}')\n",
    "print(f' R2 Socre : {r2}')\n",
    "print(f' Adjusted R2 Score : {adj_r2}')"
   ]
  },
  {
   "cell_type": "code",
   "execution_count": 18,
   "id": "23884e54-7d41-4f00-9e0f-1a03fea5155a",
   "metadata": {},
   "outputs": [
    {
     "data": {
      "text/plain": [
       "array([  37.90402135, -241.96436231,  542.42875852,  347.70384391,\n",
       "       -931.48884588,  518.06227698,  163.41998299,  275.31790158,\n",
       "        736.1988589 ,   48.67065743])"
      ]
     },
     "execution_count": 18,
     "metadata": {},
     "output_type": "execute_result"
    }
   ],
   "source": [
    "sklr.coef_"
   ]
  },
  {
   "cell_type": "code",
   "execution_count": 19,
   "id": "ccd941b0-5961-4060-8f5d-ec8300871e72",
   "metadata": {},
   "outputs": [
    {
     "data": {
      "text/plain": [
       "151.34560453985995"
      ]
     },
     "execution_count": 19,
     "metadata": {},
     "output_type": "execute_result"
    }
   ],
   "source": [
    "sklr.intercept_"
   ]
  },
  {
   "cell_type": "code",
   "execution_count": null,
   "id": "ade25ca2-6dad-4396-b785-ccb518809bcd",
   "metadata": {},
   "outputs": [],
   "source": []
  }
 ],
 "metadata": {
  "kernelspec": {
   "display_name": "Python 3 (ipykernel)",
   "language": "python",
   "name": "python3"
  },
  "language_info": {
   "codemirror_mode": {
    "name": "ipython",
    "version": 3
   },
   "file_extension": ".py",
   "mimetype": "text/x-python",
   "name": "python",
   "nbconvert_exporter": "python",
   "pygments_lexer": "ipython3",
   "version": "3.12.7"
  }
 },
 "nbformat": 4,
 "nbformat_minor": 5
}

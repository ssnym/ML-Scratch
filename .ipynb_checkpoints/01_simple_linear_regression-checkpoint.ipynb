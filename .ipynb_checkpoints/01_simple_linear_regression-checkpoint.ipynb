{
 "cells": [
  {
   "cell_type": "markdown",
   "id": "57895af7-9736-4d00-833a-1eab9ccec08c",
   "metadata": {},
   "source": [
    "# Simple Linear Regression from Scratch\n",
    "\n",
    "## $Y = m *X + b $\n",
    "\n",
    "## $ m = \\frac{\\sum_{i=1}^{n} (X_i - X_{\\text{mean}})(Y_i - Y_{\\text{mean}})}{\\sum_{i=1}^{n} (X_i - X_{\\text{mean}})^2} $\n",
    "\n",
    "## $ b = Y_{\\text{mean}} - m * X_{\\text{mean}}  $"
   ]
  },
  {
   "cell_type": "code",
   "execution_count": 19,
   "id": "1c087e90-f23c-4ed2-bfac-484dc15861bb",
   "metadata": {},
   "outputs": [],
   "source": [
    "import numpy as np\n",
    "import pandas as pd\n",
    "\n",
    "from sklearn.model_selection import train_test_split\n",
    "\n",
    "from sklearn.linear_model import LinearRegression\n",
    "\n",
    "import matplotlib.pyplot as plt"
   ]
  },
  {
   "cell_type": "code",
   "execution_count": 2,
   "id": "3771ec0c-d0cd-4eae-ad53-73e3dc75a64a",
   "metadata": {},
   "outputs": [],
   "source": [
    "class LR:\n",
    "\n",
    "    def __init__(self):\n",
    "        self.coef_ = None\n",
    "        self.intercept_ = None\n",
    "\n",
    "    def fit(self , X_train , Y_train):\n",
    "        \n",
    "        X_mean = X_train.mean()\n",
    "        Y_mean = Y_train.mean()\n",
    "        num = 0\n",
    "        den = 0\n",
    "        \n",
    "        for i in range(X_train.shape[0]):\n",
    "            \n",
    "            num = num +  (X_train.iloc[i] - X_mean) * (Y_train.iloc[i] - Y_mean)\n",
    "            den = den + ( (X_train.iloc[i] - X_mean) ** 2 )\n",
    "            \n",
    "        self.coef_ = num / den\n",
    "        self.intercept_ = Y_mean - (self.coef_ * X_mean)\n",
    "\n",
    "    def predict(self , X_test):\n",
    "\n",
    "        return ( (self.coef_ * X_test) + self.intercept_)\n",
    "            "
   ]
  },
  {
   "cell_type": "code",
   "execution_count": 3,
   "id": "5a7adad4-3609-463d-9d66-70b327e13b26",
   "metadata": {},
   "outputs": [
    {
     "data": {
      "text/html": [
       "<div>\n",
       "<style scoped>\n",
       "    .dataframe tbody tr th:only-of-type {\n",
       "        vertical-align: middle;\n",
       "    }\n",
       "\n",
       "    .dataframe tbody tr th {\n",
       "        vertical-align: top;\n",
       "    }\n",
       "\n",
       "    .dataframe thead th {\n",
       "        text-align: right;\n",
       "    }\n",
       "</style>\n",
       "<table border=\"1\" class=\"dataframe\">\n",
       "  <thead>\n",
       "    <tr style=\"text-align: right;\">\n",
       "      <th></th>\n",
       "      <th>cgpa</th>\n",
       "      <th>package</th>\n",
       "    </tr>\n",
       "  </thead>\n",
       "  <tbody>\n",
       "    <tr>\n",
       "      <th>0</th>\n",
       "      <td>6.89</td>\n",
       "      <td>3.26</td>\n",
       "    </tr>\n",
       "    <tr>\n",
       "      <th>1</th>\n",
       "      <td>5.12</td>\n",
       "      <td>1.98</td>\n",
       "    </tr>\n",
       "    <tr>\n",
       "      <th>2</th>\n",
       "      <td>7.82</td>\n",
       "      <td>3.25</td>\n",
       "    </tr>\n",
       "    <tr>\n",
       "      <th>3</th>\n",
       "      <td>7.42</td>\n",
       "      <td>3.67</td>\n",
       "    </tr>\n",
       "    <tr>\n",
       "      <th>4</th>\n",
       "      <td>6.94</td>\n",
       "      <td>3.57</td>\n",
       "    </tr>\n",
       "  </tbody>\n",
       "</table>\n",
       "</div>"
      ],
      "text/plain": [
       "   cgpa  package\n",
       "0  6.89     3.26\n",
       "1  5.12     1.98\n",
       "2  7.82     3.25\n",
       "3  7.42     3.67\n",
       "4  6.94     3.57"
      ]
     },
     "execution_count": 3,
     "metadata": {},
     "output_type": "execute_result"
    }
   ],
   "source": [
    "df = pd.read_csv('/home/sam/Documents/ML/data/simple_lr_placement.csv')\n",
    "\n",
    "df.head()"
   ]
  },
  {
   "cell_type": "code",
   "execution_count": 4,
   "id": "2915cee9-d2f8-49ea-9ef0-ce3e385b647f",
   "metadata": {},
   "outputs": [],
   "source": [
    "X = df.iloc[:,0]\n",
    "Y = df.iloc[:,1]"
   ]
  },
  {
   "cell_type": "code",
   "execution_count": 5,
   "id": "b44754ed-0deb-438a-b3f4-3b9503709d17",
   "metadata": {},
   "outputs": [
    {
     "data": {
      "text/plain": [
       "((160,), (40,), (160,), (40,))"
      ]
     },
     "execution_count": 5,
     "metadata": {},
     "output_type": "execute_result"
    }
   ],
   "source": [
    "X_train , X_test , Y_train , Y_test = train_test_split(X , Y , test_size = 0.2 , random_state = 42)\n",
    "\n",
    "X_train.shape , X_test.shape , Y_train.shape , Y_test.shape"
   ]
  },
  {
   "cell_type": "code",
   "execution_count": 6,
   "id": "2f0fbbea-4de8-4479-bd79-46e1eb6f5148",
   "metadata": {},
   "outputs": [],
   "source": [
    "obj = LR()\n",
    "\n",
    "obj.fit(X_train , Y_train)"
   ]
  },
  {
   "cell_type": "code",
   "execution_count": 7,
   "id": "cdbd1b2a-2d78-4653-9986-c6aa44d18105",
   "metadata": {},
   "outputs": [
    {
     "data": {
      "text/plain": [
       "array([3.5096192])"
      ]
     },
     "execution_count": 7,
     "metadata": {},
     "output_type": "execute_result"
    }
   ],
   "source": [
    "obj.predict(np.array([7.9]))"
   ]
  },
  {
   "cell_type": "code",
   "execution_count": 8,
   "id": "81f918b3-6d84-4525-aced-978c848a06f1",
   "metadata": {},
   "outputs": [
    {
     "name": "stdout",
     "output_type": "stream",
     "text": [
      "-1.0270069374542108 0.5742564727019197\n"
     ]
    }
   ],
   "source": [
    "y_pred = obj.predict(X_test)\n",
    "print(obj.intercept_ , obj.coef_)"
   ]
  },
  {
   "cell_type": "code",
   "execution_count": 9,
   "id": "b15b2ee8-b222-454b-b4b9-f13c77804ca4",
   "metadata": {},
   "outputs": [],
   "source": [
    "from sklearn.metrics import mean_absolute_error , mean_squared_error , r2_score"
   ]
  },
  {
   "cell_type": "code",
   "execution_count": 10,
   "id": "7d7c858d-2cfe-4428-ae44-889fc86d5d80",
   "metadata": {},
   "outputs": [],
   "source": [
    "mae = mean_absolute_error(Y_test , y_pred)\n",
    "mse = mean_squared_error(Y_test , y_pred)\n",
    "rmse = np.sqrt( mean_squared_error(Y_test , y_pred) )\n",
    "r2 = r2_score(Y_test , y_pred)\n",
    "adj_r2 = 1 - ( ( ( 1- r2) * (X_test.shape[0]) ) / ( X_test.shape[0] - 1 - 1) )"
   ]
  },
  {
   "cell_type": "code",
   "execution_count": 11,
   "id": "cdadf631-5190-4174-88d0-c1c163a66214",
   "metadata": {},
   "outputs": [
    {
     "name": "stdout",
     "output_type": "stream",
     "text": [
      "For LR class --- \n",
      " Mean Absolute Error : 0.23150985393278373\n",
      " Mean Squared Error : 0.08417638361329656\n",
      " Root Mean Squared Error : 0.2901316659954521\n",
      " R2 Socre : 0.7730984312051673\n",
      " Adjusted R2 Score : 0.7611562433738603\n"
     ]
    }
   ],
   "source": [
    "print('For LR class --- ')\n",
    "print(f' Mean Absolute Error : {mae}')\n",
    "print(f' Mean Squared Error : {mse}')\n",
    "print(f' Root Mean Squared Error : {rmse}')\n",
    "print(f' R2 Socre : {r2}')\n",
    "print(f' Adjusted R2 Score : {adj_r2}')"
   ]
  },
  {
   "cell_type": "code",
   "execution_count": 28,
   "id": "65f2666b-3fec-4bc1-9a2a-9ac8e6996f0f",
   "metadata": {},
   "outputs": [
    {
     "data": {
      "text/plain": [
       "[<matplotlib.lines.Line2D at 0x7f67caac2480>]"
      ]
     },
     "execution_count": 28,
     "metadata": {},
     "output_type": "execute_result"
    },
    {
     "data": {
      "image/png": "[encoded data removed]",
      "text/plain": [
       "<Figure size 640x480 with 1 Axes>"
      ]
     },
     "metadata": {},
     "output_type": "display_data"
    }
   ],
   "source": [
    "plt.scatter(X , Y)\n",
    "plt.plot(X , obj.predict(X) , color = 'red')"
   ]
  },
  {
   "cell_type": "markdown",
   "id": "5c03e7d7-ca70-4643-882e-8457dce42a12",
   "metadata": {},
   "source": [
    "### Now with SKLearn Linear Regression"
   ]
  },
  {
   "cell_type": "code",
   "execution_count": 29,
   "id": "8f9adc75-07e3-4aea-b6ee-d0673918ed49",
   "metadata": {},
   "outputs": [
    {
     "name": "stdout",
     "output_type": "stream",
     "text": [
      "-1.02700693745421 [0.57425647]\n"
     ]
    }
   ],
   "source": [
    "lr = LinearRegression()\n",
    "lr.fit(X_train.values.reshape(X_train.shape[0] , 1) , Y_train)\n",
    "print(lr.intercept_ , lr.coef_)\n",
    "y_pred_lr = lr.predict(X_test.values.reshape(X_test.shape[0] , 1))"
   ]
  },
  {
   "cell_type": "code",
   "execution_count": 30,
   "id": "2aebddb9-744b-4022-8b4a-948d1fe8512a",
   "metadata": {},
   "outputs": [],
   "source": [
    "mae = mean_absolute_error(Y_test , y_pred_lr)\n",
    "mse = mean_squared_error(Y_test , y_pred_lr)\n",
    "rmse = np.sqrt( mean_squared_error(Y_test , y_pred_lr) )\n",
    "r2 = r2_score(Y_test , y_pred_lr)\n",
    "adj_r2 = 1 - ( ( ( 1- r2) * (X_test.shape[0]) ) / ( X_test.shape[0] - 1 - 1) )"
   ]
  },
  {
   "cell_type": "code",
   "execution_count": 31,
   "id": "47234081-79f3-4078-a6ee-efc4e93ece37",
   "metadata": {},
   "outputs": [
    {
     "name": "stdout",
     "output_type": "stream",
     "text": [
      "For SKLearn LinearRegression ----- \n",
      " Mean Absolute Error : 0.23150985393278373\n",
      " Mean Squared Error : 0.08417638361329657\n",
      " Root Mean Squared Error : 0.2901316659954521\n",
      " R2 Socre : 0.7730984312051673\n",
      " Adjusted R2 Score : 0.7611562433738603\n"
     ]
    }
   ],
   "source": [
    "print('For SKLearn LinearRegression ----- ')\n",
    "print(f' Mean Absolute Error : {mae}')\n",
    "print(f' Mean Squared Error : {mse}')\n",
    "print(f' Root Mean Squared Error : {rmse}')\n",
    "print(f' R2 Socre : {r2}')\n",
    "print(f' Adjusted R2 Score : {adj_r2}')"
   ]
  },
  {
   "cell_type": "code",
   "execution_count": null,
   "id": "c4054ed4-1a5b-4d95-b244-8fd48552e325",
   "metadata": {},
   "outputs": [],
   "source": []
  }
 ],
 "metadata": {
  "kernelspec": {
   "display_name": "Python 3 (ipykernel)",
   "language": "python",
   "name": "python3"
  },
  "language_info": {
   "codemirror_mode": {
    "name": "ipython",
    "version": 3
   },
   "file_extension": ".py",
   "mimetype": "text/x-python",
   "name": "python",
   "nbconvert_exporter": "python",
   "pygments_lexer": "ipython3",
   "version": "3.12.7"
  }
 },
 "nbformat": 4,
 "nbformat_minor": 5
}

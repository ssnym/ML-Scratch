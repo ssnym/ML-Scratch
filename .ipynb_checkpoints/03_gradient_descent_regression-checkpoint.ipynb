{
 "cells": [
  {
   "cell_type": "markdown",
   "id": "6bfdfe30-6c2b-4c7c-9fb7-11a24502ebd7",
   "metadata": {},
   "source": [
    "## Gradient Descent Linear Regression from Scratch\n",
    "\n",
    "### Model Equation:\n",
    "### $$ y = b_0 + \\sum_{i=1}^{n} b_i X_i $$\n",
    "\n",
    "### Gradient Descent Update Rule:\n",
    "### $$ \\beta_{\\text{new}} = \\beta_{\\text{old}} - \\eta \\cdot \\nabla J(\\beta) $$\n",
    "\n",
    "### where:\n",
    "\n",
    "### $$ \\nabla J(\\beta) = \\frac{1}{m} X^T (X \\beta_{\\text{old}} - Y) $$\n",
    "\n",
    "### Thus, the final update rule is:\n",
    "\n",
    "### $$ \\beta_{\\text{new}} = \\beta_{\\text{old}} - \\eta \\frac{1}{m} X^T (X \\beta_{\\text{old}} - Y) $$\n",
    "\n",
    "### where:\n",
    "### - $ \\beta $ is the parameter vector $ (b_0, b_1, ..., b_n)^T $,\n",
    "### - $ \\eta $ is the learning rate,\n",
    "### - $ X $ is the design matrix (including bias term),\n",
    "### - $ Y $ is the target vector,\n",
    "### - $ m $ is the number of training samples.\n"
   ]
  },
  {
   "cell_type": "code",
   "execution_count": 1,
   "id": "bc3f092e-89ef-4333-b05e-33f2984c7ec8",
   "metadata": {},
   "outputs": [],
   "source": [
    "from sklearn.datasets import make_regression\n",
    "import matplotlib.pyplot as plt\n",
    "import numpy as np\n",
    "from sklearn.model_selection import cross_val_score"
   ]
  },
  {
   "cell_type": "code",
   "execution_count": 31,
   "id": "ea227955-a5ad-4825-af1f-77292d3d57d9",
   "metadata": {},
   "outputs": [
    {
     "data": {
      "text/plain": [
       "<matplotlib.collections.PathCollection at 0x7f13ee694200>"
      ]
     },
     "execution_count": 31,
     "metadata": {},
     "output_type": "execute_result"
    },
    {
     "data": {
      "image/png": "[encoded data removed]",
      "text/plain": [
       "<Figure size 640x480 with 1 Axes>"
      ]
     },
     "metadata": {},
     "output_type": "display_data"
    }
   ],
   "source": [
    "X , Y = make_regression(n_samples = 100 , n_features = 1 , n_informative=1 , n_targets=1 , noise=20,random_state=13)\n",
    "\n",
    "plt.scatter(X,Y)"
   ]
  },
  {
   "cell_type": "code",
   "execution_count": 36,
   "id": "b4f9b677-145c-4e1e-8fa1-cd65790cf440",
   "metadata": {},
   "outputs": [
    {
     "data": {
      "text/plain": [
       "((80, 1), (20, 1), (80,), (20,))"
      ]
     },
     "execution_count": 36,
     "metadata": {},
     "output_type": "execute_result"
    }
   ],
   "source": [
    "from sklearn.model_selection import train_test_split\n",
    "\n",
    "X_train , X_test , Y_train , Y_test = train_test_split(X , Y , test_size = 0.2 , random_state = 42)\n",
    "\n",
    "X_train.shape , X_test.shape , Y_train.shape , Y_test.shape"
   ]
  },
  {
   "cell_type": "code",
   "execution_count": 37,
   "id": "7e36e8cc-e126-4c87-a79b-61083fd19a87",
   "metadata": {},
   "outputs": [
    {
     "data": {
      "text/plain": [
       "(array([28.16404017]), -2.7130725669241036)"
      ]
     },
     "execution_count": 37,
     "metadata": {},
     "output_type": "execute_result"
    }
   ],
   "source": [
    "from sklearn.linear_model import LinearRegression\n",
    "lr = LinearRegression()\n",
    "lr.fit(X_train,Y_train)\n",
    "lr.coef_ , lr.intercept_"
   ]
  },
  {
   "cell_type": "code",
   "execution_count": 38,
   "id": "4632ee65-055e-42f1-9921-7bccae3fc07a",
   "metadata": {},
   "outputs": [
    {
     "data": {
      "text/plain": [
       "0.6186926408914154"
      ]
     },
     "execution_count": 38,
     "metadata": {},
     "output_type": "execute_result"
    }
   ],
   "source": [
    "y_pred = lr.predict(X_test)\n",
    "from sklearn.metrics import r2_score\n",
    "r2_score(Y_test , y_pred)"
   ]
  },
  {
   "cell_type": "code",
   "execution_count": 62,
   "id": "08ad9a3d-6cbb-4d3c-bcf3-f06eedb43506",
   "metadata": {},
   "outputs": [],
   "source": [
    "class GDRegressor:\n",
    "\n",
    "    def __init__(self, learning_rate , epochs):\n",
    "        self.m = None\n",
    "        self.b = None\n",
    "        self.lr = learning_rate\n",
    "        self.epochs = epochs\n",
    "\n",
    "    def fit(self,X,Y,m= np.random.randn() , b = np.random.randn() ):\n",
    "        self.m = m\n",
    "        self.b = b\n",
    "        \n",
    "        for i in range(self.epochs):\n",
    "            \n",
    "            error = Y - self.m*X - self.b\n",
    "            slope_b = -2 * np.sum(error)\n",
    "            slope_m = -2 * np.sum(error * X)\n",
    "            \n",
    "            self.b = self.b - self.lr * slope_b, 5\n",
    "            self.m = self.m - self.lr * slope_m, 5\n",
    "\n",
    "            print(f'{i} {self.m} and {self.b}')\n",
    "        print(\"Final Parameters:\", self.m, self.b)\n",
    "        \n",
    "    def predict(self,X):\n",
    "        return self.m * X + self.b"
   ]
  },
  {
   "cell_type": "code",
   "execution_count": 63,
   "id": "2a26bec0-799e-4ddc-a6de-2801a3edd85a",
   "metadata": {},
   "outputs": [],
   "source": [
    "reg = GDRegressor(0.01,50)"
   ]
  },
  {
   "cell_type": "code",
   "execution_count": 64,
   "id": "7358e8ad-f8b2-4161-8b7b-cb585ce839d5",
   "metadata": {
    "scrolled": true
   },
   "outputs": [
    {
     "name": "stdout",
     "output_type": "stream",
     "text": [
      "0 (-10.176554966829398, 5) and (-375.15729571283555, 5)\n"
     ]
    },
    {
     "ename": "ValueError",
     "evalue": "operands could not be broadcast together with shapes (80,) (80,2) ",
     "output_type": "error",
     "traceback": [
      "\u001b[0;31m---------------------------------------------------------------------------\u001b[0m",
      "\u001b[0;31mValueError\u001b[0m                                Traceback (most recent call last)",
      "Cell \u001b[0;32mIn[64], line 1\u001b[0m\n\u001b[0;32m----> 1\u001b[0m reg\u001b[38;5;241m.\u001b[39mfit(X_train,Y_train)\n",
      "Cell \u001b[0;32mIn[62], line 15\u001b[0m, in \u001b[0;36mGDRegressor.fit\u001b[0;34m(self, X, Y, m, b)\u001b[0m\n\u001b[1;32m     11\u001b[0m \u001b[38;5;28mself\u001b[39m\u001b[38;5;241m.\u001b[39mb \u001b[38;5;241m=\u001b[39m b\n\u001b[1;32m     13\u001b[0m \u001b[38;5;28;01mfor\u001b[39;00m i \u001b[38;5;129;01min\u001b[39;00m \u001b[38;5;28mrange\u001b[39m(\u001b[38;5;28mself\u001b[39m\u001b[38;5;241m.\u001b[39mepochs):\n\u001b[0;32m---> 15\u001b[0m     error \u001b[38;5;241m=\u001b[39m Y \u001b[38;5;241m-\u001b[39m \u001b[38;5;28mself\u001b[39m\u001b[38;5;241m.\u001b[39mm\u001b[38;5;241m*\u001b[39mX \u001b[38;5;241m-\u001b[39m \u001b[38;5;28mself\u001b[39m\u001b[38;5;241m.\u001b[39mb\n\u001b[1;32m     16\u001b[0m     slope_b \u001b[38;5;241m=\u001b[39m \u001b[38;5;241m-\u001b[39m\u001b[38;5;241m2\u001b[39m \u001b[38;5;241m*\u001b[39m np\u001b[38;5;241m.\u001b[39msum(error)\n\u001b[1;32m     17\u001b[0m     slope_m \u001b[38;5;241m=\u001b[39m \u001b[38;5;241m-\u001b[39m\u001b[38;5;241m2\u001b[39m \u001b[38;5;241m*\u001b[39m np\u001b[38;5;241m.\u001b[39msum(error \u001b[38;5;241m*\u001b[39m X)\n",
      "\u001b[0;31mValueError\u001b[0m: operands could not be broadcast together with shapes (80,) (80,2) "
     ]
    }
   ],
   "source": [
    "reg.fit(X_train,Y_train)"
   ]
  },
  {
   "cell_type": "code",
   "execution_count": 53,
   "id": "c536f798-9373-45de-bb64-70e76cbeca56",
   "metadata": {},
   "outputs": [
    {
     "data": {
      "text/plain": [
       "[<matplotlib.lines.Line2D at 0x7f13ee45ffb0>]"
      ]
     },
     "execution_count": 53,
     "metadata": {},
     "output_type": "execute_result"
    },
    {
     "data": {
      "image/png": "[encoded data removed]",
      "text/plain": [
       "<Figure size 640x480 with 1 Axes>"
      ]
     },
     "metadata": {},
     "output_type": "display_data"
    }
   ],
   "source": [
    "plt.scatter(X_train , Y_train)\n",
    "plt.plot(X_train , reg.predict(X_train) , color = 'red' )"
   ]
  },
  {
   "cell_type": "code",
   "execution_count": 54,
   "id": "262a8b5b-b025-49f7-91b0-7505876c1995",
   "metadata": {},
   "outputs": [
    {
     "data": {
      "text/plain": [
       "-2.007860620640322e+208"
      ]
     },
     "execution_count": 54,
     "metadata": {},
     "output_type": "execute_result"
    }
   ],
   "source": [
    "y_pred = reg.predict(X_test)\n",
    "from sklearn.metrics import r2_score\n",
    "r2_score(Y_test , y_pred)"
   ]
  },
  {
   "cell_type": "code",
   "execution_count": 55,
   "id": "ef4e2820-107f-4567-a211-6a3369ff9585",
   "metadata": {},
   "outputs": [
    {
     "data": {
      "image/png": "[encoded data removed]",
      "text/plain": [
       "<Figure size 640x480 with 1 Axes>"
      ]
     },
     "metadata": {},
     "output_type": "display_data"
    }
   ],
   "source": [
    "import matplotlib.pyplot as plt\n",
    "\n",
    "losses = []\n",
    "for i in range(reg.epochs):\n",
    "    error = Y_train - (reg.m * X_train + reg.b)\n",
    "    loss = np.mean(error ** 2)\n",
    "    losses.append(loss)\n",
    "\n",
    "plt.plot(range(reg.epochs), losses)\n",
    "plt.xlabel('Epochs')\n",
    "plt.ylabel('Loss')\n",
    "plt.title('Loss Convergence')\n",
    "plt.show()\n"
   ]
  },
  {
   "cell_type": "code",
   "execution_count": null,
   "id": "fc48bbe2-2ba5-43e4-9505-cc17cf9efafb",
   "metadata": {},
   "outputs": [],
   "source": []
  }
 ],
 "metadata": {
  "kernelspec": {
   "display_name": "Python 3 (ipykernel)",
   "language": "python",
   "name": "python3"
  },
  "language_info": {
   "codemirror_mode": {
    "name": "ipython",
    "version": 3
   },
   "file_extension": ".py",
   "mimetype": "text/x-python",
   "name": "python",
   "nbconvert_exporter": "python",
   "pygments_lexer": "ipython3",
   "version": "3.12.7"
  }
 },
 "nbformat": 4,
 "nbformat_minor": 5
}
